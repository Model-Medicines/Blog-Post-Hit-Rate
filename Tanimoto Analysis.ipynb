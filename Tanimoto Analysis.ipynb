{
 "cells": [
  {
   "cell_type": "code",
   "execution_count": 1,
   "id": "0158bc54",
   "metadata": {},
   "outputs": [],
   "source": [
    "import warnings\n",
    "warnings.simplefilter(action=\"ignore\")\n",
    "import pandas as pd\n",
    "import numpy as np\n",
    "from tqdm import tqdm\n",
    "from rdkit import Chem\n",
    "from rdkit.Chem import AllChem\n",
    "from rdkit.DataStructs import BulkTanimotoSimilarity\n",
    "from molvs.fragment import LargestFragmentChooser\n",
    "import swifter"
   ]
  },
  {
   "cell_type": "code",
   "execution_count": 2,
   "id": "f0a8949a",
   "metadata": {},
   "outputs": [],
   "source": [
    "salt_fixer_object = LargestFragmentChooser(prefer_organic=True)\n",
    "\n",
    "def smiles_format(sm):\n",
    "    try:\n",
    "        mol = Chem.MolFromSmiles(sm)\n",
    "        mol = salt_fixer_object.choose(mol)\n",
    "        sm_final = Chem.MolToSmiles(mol, canonical=True, isomericSmiles=True, kekuleSmiles=False)\n",
    "    except:\n",
    "        sm_final = np.nan\n",
    "    return sm_final\n",
    "\n",
    "def full_smiles_cleaner(df):\n",
    "    unique_smiles = set(df['SMILES'])\n",
    "    smiles_standardized_dict = {smile: smiles_format(smile) for smile in tqdm(unique_smiles)}\n",
    "    df['SMILES'] = df['SMILES'].map(smiles_standardized_dict)\n",
    "    df = df[~df['SMILES'].isna()]\n",
    "    return df\n",
    "\n",
    "def ECFP4(smile):\n",
    "    finger_prints = AllChem.GetMorganFingerprintAsBitVect(Chem.MolFromSmiles(smile), 2, nBits=2048)\n",
    "    return finger_prints\n",
    "\n",
    "def bulk_tanimoto(fp1, list_of_fps):\n",
    "    similarity_matrix = BulkTanimotoSimilarity(fp1, list_of_fps)\n",
    "    return similarity_matrix\n",
    "\n",
    "def max_tanimoto_finder(list1_fps, list2_fps):\n",
    "    max_tanimoto_list = []\n",
    "    for curr_fp in list1_fps:\n",
    "        curr_tanimoto_list = bulk_tanimoto(curr_fp, list2_fps)\n",
    "        max_tanimoto_list.append(np.max(curr_tanimoto_list))\n",
    "    return max_tanimoto_list\n",
    "\n",
    "def run_tanimoto_sim(comparison_df, hits_df, column_name=None):\n",
    "    comparison_ECFP4_list = list(comparison_df.swifter.apply(lambda comparison_df : ECFP4(comparison_df['SMILES']), axis=1))\n",
    "    hits_ECFP4_list = list(hits_df.swifter.apply(lambda hits_df : ECFP4(hits_df['SMILES']), axis=1))\n",
    "    max_tanimoto_list = max_tanimoto_finder(hits_ECFP4_list, comparison_ECFP4_list)\n",
    "    hits_df[f'{column_name}_NN_Tanimoto_ECFP4_2048'] = max_tanimoto_list\n",
    "    return hits_df\n",
    "\n",
    "\n",
    "def calculate_mean_pairwise_tanimoto(hits_df):\n",
    "    # Convert SMILES to ECFP4 fingerprints\n",
    "    hits_ECFP4_list = list(hits_df.swifter.apply(lambda row: ECFP4(row['SMILES']), axis=1))\n",
    "    n = len(hits_ECFP4_list)\n",
    "    total_similarity = 0.0\n",
    "    pair_count = 0\n",
    "    \n",
    "    # Calculate pairwise Tanimoto similarities\n",
    "    for i in range(n):\n",
    "        similarities = BulkTanimotoSimilarity(hits_ECFP4_list[i], hits_ECFP4_list)\n",
    "        total_similarity += np.sum(similarities) - 1  # Exclude self-similarity\n",
    "        pair_count += n - 1\n",
    "    \n",
    "    # Calculate mean pairwise similarity\n",
    "    mean_similarity = total_similarity / pair_count\n",
    "    return mean_similarity"
   ]
  },
  {
   "cell_type": "markdown",
   "id": "ce6d55cc",
   "metadata": {},
   "source": [
    "# Paper 1 (10.1126/sciadv.abg3338)"
   ]
  },
  {
   "cell_type": "code",
   "execution_count": 3,
   "id": "80b3bf71",
   "metadata": {},
   "outputs": [],
   "source": [
    "paper_1_hits_df = pd.read_csv('data/Paper 1/Paper 1 Hits.csv')\n",
    "paper_1_fine_tune_df = pd.read_csv('data/Paper 1/Paper 1 Fine Tuning Data.csv')\n",
    "paper_1_chembl_df = pd.read_csv('data/Paper 1/Paper_1_Chembl.csv')\n"
   ]
  },
  {
   "cell_type": "markdown",
   "id": "12996866",
   "metadata": {},
   "source": [
    "#### Data Cleanup and SMILES Standardization"
   ]
  },
  {
   "cell_type": "code",
   "execution_count": 4,
   "id": "87f0ccea",
   "metadata": {},
   "outputs": [
    {
     "name": "stderr",
     "output_type": "stream",
     "text": [
      "100%|██████████| 12/12 [00:00<00:00, 612.55it/s]\n",
      "100%|██████████| 37/37 [00:00<00:00, 730.32it/s]\n",
      "100%|██████████| 1257/1257 [00:01<00:00, 751.93it/s]\n"
     ]
    }
   ],
   "source": [
    "paper_1_hits_df = paper_1_hits_df[['Compound Name', 'SMILES', 'LXRa EC50 (µM)']]\n",
    "paper_1_hits_df = full_smiles_cleaner(paper_1_hits_df)\n",
    "paper_1_fine_tune_df = full_smiles_cleaner(paper_1_fine_tune_df)\n",
    "paper_1_chembl_df = full_smiles_cleaner(paper_1_chembl_df)"
   ]
  },
  {
   "cell_type": "code",
   "execution_count": 5,
   "id": "86f29a0a",
   "metadata": {},
   "outputs": [
    {
     "data": {
      "application/vnd.jupyter.widget-view+json": {
       "model_id": "8e95566a3c404ad8b5690cf3597b102f",
       "version_major": 2,
       "version_minor": 0
      },
      "text/plain": [
       "Pandas Apply:   0%|          | 0/39 [00:00<?, ?it/s]"
      ]
     },
     "metadata": {},
     "output_type": "display_data"
    },
    {
     "data": {
      "application/vnd.jupyter.widget-view+json": {
       "model_id": "cabc726013be47168db41057c200beec",
       "version_major": 2,
       "version_minor": 0
      },
      "text/plain": [
       "Pandas Apply:   0%|          | 0/12 [00:00<?, ?it/s]"
      ]
     },
     "metadata": {},
     "output_type": "display_data"
    },
    {
     "data": {
      "application/vnd.jupyter.widget-view+json": {
       "model_id": "ef00ff81334048588494cc05f25511f5",
       "version_major": 2,
       "version_minor": 0
      },
      "text/plain": [
       "Pandas Apply:   0%|          | 0/2719 [00:00<?, ?it/s]"
      ]
     },
     "metadata": {},
     "output_type": "display_data"
    },
    {
     "data": {
      "application/vnd.jupyter.widget-view+json": {
       "model_id": "88b5854be4de4c37a165704eb9fdfc5f",
       "version_major": 2,
       "version_minor": 0
      },
      "text/plain": [
       "Pandas Apply:   0%|          | 0/12 [00:00<?, ?it/s]"
      ]
     },
     "metadata": {},
     "output_type": "display_data"
    }
   ],
   "source": [
    "paper_1_hits_df = run_tanimoto_sim(paper_1_fine_tune_df, paper_1_hits_df, column_name=\"FineTune\")\n",
    "paper_1_hits_df = run_tanimoto_sim(paper_1_chembl_df, paper_1_hits_df, column_name=\"ChEMBL\")"
   ]
  },
  {
   "cell_type": "code",
   "execution_count": 6,
   "id": "21f823d9",
   "metadata": {},
   "outputs": [
    {
     "data": {
      "text/html": [
       "<div>\n",
       "<style scoped>\n",
       "    .dataframe tbody tr th:only-of-type {\n",
       "        vertical-align: middle;\n",
       "    }\n",
       "\n",
       "    .dataframe tbody tr th {\n",
       "        vertical-align: top;\n",
       "    }\n",
       "\n",
       "    .dataframe thead th {\n",
       "        text-align: right;\n",
       "    }\n",
       "</style>\n",
       "<table border=\"1\" class=\"dataframe\">\n",
       "  <thead>\n",
       "    <tr style=\"text-align: right;\">\n",
       "      <th></th>\n",
       "      <th>Compound Name</th>\n",
       "      <th>SMILES</th>\n",
       "      <th>LXRa EC50 (µM)</th>\n",
       "      <th>FineTune_NN_Tanimoto_ECFP4_2048</th>\n",
       "      <th>ChEMBL_NN_Tanimoto_ECFP4_2048</th>\n",
       "    </tr>\n",
       "  </thead>\n",
       "  <tbody>\n",
       "    <tr>\n",
       "      <th>0</th>\n",
       "      <td>Compound 1</td>\n",
       "      <td>CN(C(=O)C(c1ccccc1)c1ccccc1)c1ccc(C(O)(C(F)(F)...</td>\n",
       "      <td>4.5 ± 0.1</td>\n",
       "      <td>0.642857</td>\n",
       "      <td>0.642857</td>\n",
       "    </tr>\n",
       "    <tr>\n",
       "      <th>1</th>\n",
       "      <td>Compound 5</td>\n",
       "      <td>CN(C(=O)c1c(F)cc(F)cc1F)c1ccc(C(O)(C(F)(F)F)C(...</td>\n",
       "      <td>0.26 ± 0.01</td>\n",
       "      <td>0.604651</td>\n",
       "      <td>0.604651</td>\n",
       "    </tr>\n",
       "    <tr>\n",
       "      <th>2</th>\n",
       "      <td>Compound 6</td>\n",
       "      <td>CN(C(=O)c1c(F)cccc1Cl)c1ccc(C(O)(C(F)(F)F)C(F)...</td>\n",
       "      <td>0.183 ± 0.006</td>\n",
       "      <td>0.586957</td>\n",
       "      <td>0.586957</td>\n",
       "    </tr>\n",
       "    <tr>\n",
       "      <th>3</th>\n",
       "      <td>Compound 8</td>\n",
       "      <td>CN(C(=O)c1ccc(F)cc1)c1ccc(C(O)(C(F)(F)F)C(F)(F...</td>\n",
       "      <td>1.05 ± 0.01</td>\n",
       "      <td>0.763158</td>\n",
       "      <td>0.763158</td>\n",
       "    </tr>\n",
       "    <tr>\n",
       "      <th>4</th>\n",
       "      <td>Compound 9</td>\n",
       "      <td>CN(C(=O)c1ccc(F)cc1Cl)c1ccc(C(O)(C(F)(F)F)C(F)...</td>\n",
       "      <td>1.68 ± 0.03</td>\n",
       "      <td>0.553191</td>\n",
       "      <td>0.553191</td>\n",
       "    </tr>\n",
       "    <tr>\n",
       "      <th>5</th>\n",
       "      <td>Compound 10</td>\n",
       "      <td>CN(C(=O)c1cccc(C(F)(F)F)c1)c1ccc(C(O)(C(F)(F)F...</td>\n",
       "      <td>1.19 ± 0.01</td>\n",
       "      <td>0.731707</td>\n",
       "      <td>0.731707</td>\n",
       "    </tr>\n",
       "    <tr>\n",
       "      <th>6</th>\n",
       "      <td>Compound 11</td>\n",
       "      <td>CN(C(=O)c1cccc(Cl)c1Cl)c1ccc(C(O)(C(F)(F)F)C(F...</td>\n",
       "      <td>1.31 ± 0.03</td>\n",
       "      <td>0.613636</td>\n",
       "      <td>0.613636</td>\n",
       "    </tr>\n",
       "    <tr>\n",
       "      <th>7</th>\n",
       "      <td>Compound 12</td>\n",
       "      <td>CN(C(=O)c1cccc(F)c1)c1ccc(C(O)(C(F)(F)F)C(F)(F...</td>\n",
       "      <td>0.8 ± 0.3</td>\n",
       "      <td>0.731707</td>\n",
       "      <td>0.731707</td>\n",
       "    </tr>\n",
       "    <tr>\n",
       "      <th>8</th>\n",
       "      <td>Compound 13</td>\n",
       "      <td>CN(C(=O)c1cccc2ccccc12)c1ccc(C(O)(C(F)(F)F)C(F...</td>\n",
       "      <td>1.1 ± 0.1</td>\n",
       "      <td>0.636364</td>\n",
       "      <td>0.636364</td>\n",
       "    </tr>\n",
       "    <tr>\n",
       "      <th>9</th>\n",
       "      <td>Compound 14</td>\n",
       "      <td>CN(C(=O)c1ccccc1Cl)c1ccc(C(O)(C(F)(F)F)C(F)(F)...</td>\n",
       "      <td>0.30 ± 0.01</td>\n",
       "      <td>0.666667</td>\n",
       "      <td>0.666667</td>\n",
       "    </tr>\n",
       "    <tr>\n",
       "      <th>10</th>\n",
       "      <td>Compound 15</td>\n",
       "      <td>CN(C(=O)c1cccs1)c1ccc(C(O)(C(F)(F)F)C(F)(F)F)cc1</td>\n",
       "      <td>0.24 ± 0.04</td>\n",
       "      <td>0.627907</td>\n",
       "      <td>0.627907</td>\n",
       "    </tr>\n",
       "    <tr>\n",
       "      <th>11</th>\n",
       "      <td>Compound 17</td>\n",
       "      <td>COc1cccc(S(=O)(=O)N(C)c2ccc(C(O)(C(F)(F)F)C(F)...</td>\n",
       "      <td>0.21 ± 0.02</td>\n",
       "      <td>0.708333</td>\n",
       "      <td>0.708333</td>\n",
       "    </tr>\n",
       "  </tbody>\n",
       "</table>\n",
       "</div>"
      ],
      "text/plain": [
       "   Compound Name                                             SMILES  \\\n",
       "0     Compound 1  CN(C(=O)C(c1ccccc1)c1ccccc1)c1ccc(C(O)(C(F)(F)...   \n",
       "1     Compound 5  CN(C(=O)c1c(F)cc(F)cc1F)c1ccc(C(O)(C(F)(F)F)C(...   \n",
       "2     Compound 6  CN(C(=O)c1c(F)cccc1Cl)c1ccc(C(O)(C(F)(F)F)C(F)...   \n",
       "3     Compound 8  CN(C(=O)c1ccc(F)cc1)c1ccc(C(O)(C(F)(F)F)C(F)(F...   \n",
       "4     Compound 9  CN(C(=O)c1ccc(F)cc1Cl)c1ccc(C(O)(C(F)(F)F)C(F)...   \n",
       "5    Compound 10  CN(C(=O)c1cccc(C(F)(F)F)c1)c1ccc(C(O)(C(F)(F)F...   \n",
       "6    Compound 11  CN(C(=O)c1cccc(Cl)c1Cl)c1ccc(C(O)(C(F)(F)F)C(F...   \n",
       "7    Compound 12  CN(C(=O)c1cccc(F)c1)c1ccc(C(O)(C(F)(F)F)C(F)(F...   \n",
       "8    Compound 13  CN(C(=O)c1cccc2ccccc12)c1ccc(C(O)(C(F)(F)F)C(F...   \n",
       "9    Compound 14  CN(C(=O)c1ccccc1Cl)c1ccc(C(O)(C(F)(F)F)C(F)(F)...   \n",
       "10   Compound 15   CN(C(=O)c1cccs1)c1ccc(C(O)(C(F)(F)F)C(F)(F)F)cc1   \n",
       "11   Compound 17  COc1cccc(S(=O)(=O)N(C)c2ccc(C(O)(C(F)(F)F)C(F)...   \n",
       "\n",
       "   LXRa EC50 (µM)  FineTune_NN_Tanimoto_ECFP4_2048  \\\n",
       "0       4.5 ± 0.1                         0.642857   \n",
       "1     0.26 ± 0.01                         0.604651   \n",
       "2   0.183 ± 0.006                         0.586957   \n",
       "3     1.05 ± 0.01                         0.763158   \n",
       "4     1.68 ± 0.03                         0.553191   \n",
       "5     1.19 ± 0.01                         0.731707   \n",
       "6     1.31 ± 0.03                         0.613636   \n",
       "7       0.8 ± 0.3                         0.731707   \n",
       "8       1.1 ± 0.1                         0.636364   \n",
       "9     0.30 ± 0.01                         0.666667   \n",
       "10    0.24 ± 0.04                         0.627907   \n",
       "11    0.21 ± 0.02                         0.708333   \n",
       "\n",
       "    ChEMBL_NN_Tanimoto_ECFP4_2048  \n",
       "0                        0.642857  \n",
       "1                        0.604651  \n",
       "2                        0.586957  \n",
       "3                        0.763158  \n",
       "4                        0.553191  \n",
       "5                        0.731707  \n",
       "6                        0.613636  \n",
       "7                        0.731707  \n",
       "8                        0.636364  \n",
       "9                        0.666667  \n",
       "10                       0.627907  \n",
       "11                       0.708333  "
      ]
     },
     "execution_count": 6,
     "metadata": {},
     "output_type": "execute_result"
    }
   ],
   "source": [
    "paper_1_hits_df"
   ]
  },
  {
   "cell_type": "code",
   "execution_count": 7,
   "id": "6357f1d4",
   "metadata": {},
   "outputs": [
    {
     "data": {
      "text/plain": [
       "0.66"
      ]
     },
     "execution_count": 7,
     "metadata": {},
     "output_type": "execute_result"
    }
   ],
   "source": [
    "round(paper_1_hits_df['FineTune_NN_Tanimoto_ECFP4_2048'].mean(), 2)"
   ]
  },
  {
   "cell_type": "code",
   "execution_count": 8,
   "id": "eb3cf298",
   "metadata": {},
   "outputs": [
    {
     "data": {
      "text/plain": [
       "0.66"
      ]
     },
     "execution_count": 8,
     "metadata": {},
     "output_type": "execute_result"
    }
   ],
   "source": [
    "round(paper_1_hits_df['ChEMBL_NN_Tanimoto_ECFP4_2048'].mean(), 2)"
   ]
  },
  {
   "cell_type": "code",
   "execution_count": 9,
   "id": "b696d3d4",
   "metadata": {
    "scrolled": true
   },
   "outputs": [
    {
     "data": {
      "application/vnd.jupyter.widget-view+json": {
       "model_id": "5298adeb67874509928024acd8885213",
       "version_major": 2,
       "version_minor": 0
      },
      "text/plain": [
       "Pandas Apply:   0%|          | 0/12 [00:00<?, ?it/s]"
      ]
     },
     "metadata": {},
     "output_type": "display_data"
    },
    {
     "data": {
      "text/plain": [
       "0.56"
      ]
     },
     "execution_count": 9,
     "metadata": {},
     "output_type": "execute_result"
    }
   ],
   "source": [
    "round(calculate_mean_pairwise_tanimoto(paper_1_hits_df), 2)"
   ]
  },
  {
   "cell_type": "markdown",
   "id": "0a192578",
   "metadata": {},
   "source": [
    "# Paper 2 (10.1021/acs.jcim.2c00068)"
   ]
  },
  {
   "cell_type": "code",
   "execution_count": 10,
   "id": "8dcda6e0",
   "metadata": {},
   "outputs": [],
   "source": [
    "paper_2_hits_df = pd.read_csv('data/Paper 2/Paper 2 Hits.csv')\n",
    "paper_2_chembl_df = pd.read_csv('data/Paper 2/Paper_2_Chembl.csv')"
   ]
  },
  {
   "cell_type": "markdown",
   "id": "a7b8365d",
   "metadata": {},
   "source": [
    "#### Data Cleanup and SMILES Standardization"
   ]
  },
  {
   "cell_type": "code",
   "execution_count": 11,
   "id": "21a87c01",
   "metadata": {},
   "outputs": [
    {
     "name": "stderr",
     "output_type": "stream",
     "text": [
      "100%|██████████| 15/15 [00:00<00:00, 678.87it/s]\n",
      "100%|██████████| 809/809 [00:01<00:00, 753.08it/s]\n"
     ]
    }
   ],
   "source": [
    "paper_2_hits_df = full_smiles_cleaner(paper_2_hits_df)\n",
    "paper_2_chembl_df = full_smiles_cleaner(paper_2_chembl_df)"
   ]
  },
  {
   "cell_type": "code",
   "execution_count": 12,
   "id": "7de9cc13",
   "metadata": {},
   "outputs": [
    {
     "data": {
      "application/vnd.jupyter.widget-view+json": {
       "model_id": "57850d969c9141e689f3d131213d5d73",
       "version_major": 2,
       "version_minor": 0
      },
      "text/plain": [
       "Pandas Apply:   0%|          | 0/1213 [00:00<?, ?it/s]"
      ]
     },
     "metadata": {},
     "output_type": "display_data"
    },
    {
     "data": {
      "application/vnd.jupyter.widget-view+json": {
       "model_id": "bd4bf9f517b048c0bf01ea45b56c66c1",
       "version_major": 2,
       "version_minor": 0
      },
      "text/plain": [
       "Pandas Apply:   0%|          | 0/15 [00:00<?, ?it/s]"
      ]
     },
     "metadata": {},
     "output_type": "display_data"
    }
   ],
   "source": [
    "paper_2_hits_df = run_tanimoto_sim(paper_2_chembl_df, paper_2_hits_df, column_name=\"ChEMBL\")"
   ]
  },
  {
   "cell_type": "code",
   "execution_count": 13,
   "id": "e46d0661",
   "metadata": {},
   "outputs": [
    {
     "data": {
      "text/html": [
       "<div>\n",
       "<style scoped>\n",
       "    .dataframe tbody tr th:only-of-type {\n",
       "        vertical-align: middle;\n",
       "    }\n",
       "\n",
       "    .dataframe tbody tr th {\n",
       "        vertical-align: top;\n",
       "    }\n",
       "\n",
       "    .dataframe thead th {\n",
       "        text-align: right;\n",
       "    }\n",
       "</style>\n",
       "<table border=\"1\" class=\"dataframe\">\n",
       "  <thead>\n",
       "    <tr style=\"text-align: right;\">\n",
       "      <th></th>\n",
       "      <th>Unnamed: 0.1</th>\n",
       "      <th>Unnamed: 0</th>\n",
       "      <th>Compound Name</th>\n",
       "      <th>SMILES</th>\n",
       "      <th>MERTK IC50 (nM)</th>\n",
       "      <th>ChEMBL_NN_Tanimoto_ECFP4_2048</th>\n",
       "    </tr>\n",
       "  </thead>\n",
       "  <tbody>\n",
       "    <tr>\n",
       "      <th>0</th>\n",
       "      <td>0</td>\n",
       "      <td>0</td>\n",
       "      <td>4b</td>\n",
       "      <td>N[C@H]1CC[C@H](Nc2nc(Nc3ccc(S(=O)(=O)N4CCOCC4)...</td>\n",
       "      <td>271.8</td>\n",
       "      <td>0.518072</td>\n",
       "    </tr>\n",
       "    <tr>\n",
       "      <th>1</th>\n",
       "      <td>1</td>\n",
       "      <td>1</td>\n",
       "      <td>4d</td>\n",
       "      <td>CN1CCN(Cc2cccc(Nc3nc(N[C@H]4CC[C@H](N)CC4)c4c[...</td>\n",
       "      <td>2911.0</td>\n",
       "      <td>0.344444</td>\n",
       "    </tr>\n",
       "    <tr>\n",
       "      <th>2</th>\n",
       "      <td>2</td>\n",
       "      <td>2</td>\n",
       "      <td>5a</td>\n",
       "      <td>N[C@H]1CC[C@H](Nc2nc(Nc3ccc(S(=O)(=O)N4CCOCC4)...</td>\n",
       "      <td>53.4</td>\n",
       "      <td>0.506024</td>\n",
       "    </tr>\n",
       "    <tr>\n",
       "      <th>3</th>\n",
       "      <td>3</td>\n",
       "      <td>3</td>\n",
       "      <td>5c</td>\n",
       "      <td>CN1CCN(Cc2cccc(Nc3nc(N[C@H]4CC[C@H](N)CC4)c4cc...</td>\n",
       "      <td>259.4</td>\n",
       "      <td>0.367816</td>\n",
       "    </tr>\n",
       "    <tr>\n",
       "      <th>4</th>\n",
       "      <td>4</td>\n",
       "      <td>4</td>\n",
       "      <td>8a</td>\n",
       "      <td>NC(=O)C1CCCN(c2nc(Nc3ccc(S(=O)(=O)N4CCOCC4)cc3...</td>\n",
       "      <td>679.0</td>\n",
       "      <td>0.377778</td>\n",
       "    </tr>\n",
       "    <tr>\n",
       "      <th>5</th>\n",
       "      <td>5</td>\n",
       "      <td>5</td>\n",
       "      <td>8b</td>\n",
       "      <td>O=C1NCCC12CCCN(c1nc(Nc3ccc(S(=O)(=O)N4CCOCC4)c...</td>\n",
       "      <td>1022.0</td>\n",
       "      <td>0.347826</td>\n",
       "    </tr>\n",
       "    <tr>\n",
       "      <th>6</th>\n",
       "      <td>6</td>\n",
       "      <td>6</td>\n",
       "      <td>8c</td>\n",
       "      <td>NC(=O)c1cccc(-c2nc(Nc3ccc(S(=O)(=O)N4CCOCC4)cc...</td>\n",
       "      <td>505.9</td>\n",
       "      <td>0.362637</td>\n",
       "    </tr>\n",
       "    <tr>\n",
       "      <th>7</th>\n",
       "      <td>7</td>\n",
       "      <td>7</td>\n",
       "      <td>8d</td>\n",
       "      <td>NC(=O)c1cn(-c2nc(Nc3ccc(S(=O)(=O)N4CCOCC4)cc3)...</td>\n",
       "      <td>5961.0</td>\n",
       "      <td>0.366667</td>\n",
       "    </tr>\n",
       "    <tr>\n",
       "      <th>8</th>\n",
       "      <td>8</td>\n",
       "      <td>8</td>\n",
       "      <td>15a</td>\n",
       "      <td>O=S(=O)(c1ccc(Nc2ncc3c(-c4cn[nH]c4)c[nH]c3n2)c...</td>\n",
       "      <td>1112.0</td>\n",
       "      <td>0.390244</td>\n",
       "    </tr>\n",
       "    <tr>\n",
       "      <th>9</th>\n",
       "      <td>9</td>\n",
       "      <td>9</td>\n",
       "      <td>15b</td>\n",
       "      <td>CNC(=O)c1ccc(Nc2ncc3c(-c4cn[nH]c4)c[nH]c3n2)cc1</td>\n",
       "      <td>1007.0</td>\n",
       "      <td>0.320988</td>\n",
       "    </tr>\n",
       "    <tr>\n",
       "      <th>10</th>\n",
       "      <td>10</td>\n",
       "      <td>10</td>\n",
       "      <td>19a</td>\n",
       "      <td>OCc1ccc(-c2[nH]nc3ccc(-c4ccc(O)cc4CO)cc23)cc1</td>\n",
       "      <td>3004.0</td>\n",
       "      <td>0.231707</td>\n",
       "    </tr>\n",
       "    <tr>\n",
       "      <th>11</th>\n",
       "      <td>11</td>\n",
       "      <td>11</td>\n",
       "      <td>19b</td>\n",
       "      <td>OCc1cc(O)ccc1-c1ccc2[nH]nc(-c3ccc(N4CCOCC4)cc3...</td>\n",
       "      <td>1988.0</td>\n",
       "      <td>0.316456</td>\n",
       "    </tr>\n",
       "    <tr>\n",
       "      <th>12</th>\n",
       "      <td>12</td>\n",
       "      <td>12</td>\n",
       "      <td>23a</td>\n",
       "      <td>O=C(Nc1[nH]nc2ccc(-c3ccc(O)cc3CO)cc12)c1ccc(S(...</td>\n",
       "      <td>8390.0</td>\n",
       "      <td>0.315789</td>\n",
       "    </tr>\n",
       "    <tr>\n",
       "      <th>13</th>\n",
       "      <td>13</td>\n",
       "      <td>13</td>\n",
       "      <td>23d</td>\n",
       "      <td>O=C(Nc1[nH]nc2ccc(-c3cnn(C4CCNCC4)c3)cc12)c1cc...</td>\n",
       "      <td>5821.0</td>\n",
       "      <td>0.340909</td>\n",
       "    </tr>\n",
       "    <tr>\n",
       "      <th>14</th>\n",
       "      <td>14</td>\n",
       "      <td>14</td>\n",
       "      <td>24</td>\n",
       "      <td>NC(=O)[C@H]1CCCN1C(=O)c1ccc2[nH]nc(-c3ccc(CN4C...</td>\n",
       "      <td>1528.0</td>\n",
       "      <td>0.425000</td>\n",
       "    </tr>\n",
       "  </tbody>\n",
       "</table>\n",
       "</div>"
      ],
      "text/plain": [
       "    Unnamed: 0.1  Unnamed: 0 Compound Name  \\\n",
       "0              0           0            4b   \n",
       "1              1           1            4d   \n",
       "2              2           2            5a   \n",
       "3              3           3            5c   \n",
       "4              4           4            8a   \n",
       "5              5           5            8b   \n",
       "6              6           6            8c   \n",
       "7              7           7            8d   \n",
       "8              8           8           15a   \n",
       "9              9           9           15b   \n",
       "10            10          10           19a   \n",
       "11            11          11           19b   \n",
       "12            12          12           23a   \n",
       "13            13          13           23d   \n",
       "14            14          14            24   \n",
       "\n",
       "                                               SMILES  MERTK IC50 (nM)  \\\n",
       "0   N[C@H]1CC[C@H](Nc2nc(Nc3ccc(S(=O)(=O)N4CCOCC4)...            271.8   \n",
       "1   CN1CCN(Cc2cccc(Nc3nc(N[C@H]4CC[C@H](N)CC4)c4c[...           2911.0   \n",
       "2   N[C@H]1CC[C@H](Nc2nc(Nc3ccc(S(=O)(=O)N4CCOCC4)...             53.4   \n",
       "3   CN1CCN(Cc2cccc(Nc3nc(N[C@H]4CC[C@H](N)CC4)c4cc...            259.4   \n",
       "4   NC(=O)C1CCCN(c2nc(Nc3ccc(S(=O)(=O)N4CCOCC4)cc3...            679.0   \n",
       "5   O=C1NCCC12CCCN(c1nc(Nc3ccc(S(=O)(=O)N4CCOCC4)c...           1022.0   \n",
       "6   NC(=O)c1cccc(-c2nc(Nc3ccc(S(=O)(=O)N4CCOCC4)cc...            505.9   \n",
       "7   NC(=O)c1cn(-c2nc(Nc3ccc(S(=O)(=O)N4CCOCC4)cc3)...           5961.0   \n",
       "8   O=S(=O)(c1ccc(Nc2ncc3c(-c4cn[nH]c4)c[nH]c3n2)c...           1112.0   \n",
       "9     CNC(=O)c1ccc(Nc2ncc3c(-c4cn[nH]c4)c[nH]c3n2)cc1           1007.0   \n",
       "10      OCc1ccc(-c2[nH]nc3ccc(-c4ccc(O)cc4CO)cc23)cc1           3004.0   \n",
       "11  OCc1cc(O)ccc1-c1ccc2[nH]nc(-c3ccc(N4CCOCC4)cc3...           1988.0   \n",
       "12  O=C(Nc1[nH]nc2ccc(-c3ccc(O)cc3CO)cc12)c1ccc(S(...           8390.0   \n",
       "13  O=C(Nc1[nH]nc2ccc(-c3cnn(C4CCNCC4)c3)cc12)c1cc...           5821.0   \n",
       "14  NC(=O)[C@H]1CCCN1C(=O)c1ccc2[nH]nc(-c3ccc(CN4C...           1528.0   \n",
       "\n",
       "    ChEMBL_NN_Tanimoto_ECFP4_2048  \n",
       "0                        0.518072  \n",
       "1                        0.344444  \n",
       "2                        0.506024  \n",
       "3                        0.367816  \n",
       "4                        0.377778  \n",
       "5                        0.347826  \n",
       "6                        0.362637  \n",
       "7                        0.366667  \n",
       "8                        0.390244  \n",
       "9                        0.320988  \n",
       "10                       0.231707  \n",
       "11                       0.316456  \n",
       "12                       0.315789  \n",
       "13                       0.340909  \n",
       "14                       0.425000  "
      ]
     },
     "execution_count": 13,
     "metadata": {},
     "output_type": "execute_result"
    }
   ],
   "source": [
    "paper_2_hits_df"
   ]
  },
  {
   "cell_type": "code",
   "execution_count": 14,
   "id": "95c52ad5",
   "metadata": {},
   "outputs": [
    {
     "data": {
      "text/plain": [
       "0.37"
      ]
     },
     "execution_count": 14,
     "metadata": {},
     "output_type": "execute_result"
    }
   ],
   "source": [
    "round(paper_2_hits_df['ChEMBL_NN_Tanimoto_ECFP4_2048'].mean(), 2)"
   ]
  },
  {
   "cell_type": "code",
   "execution_count": 15,
   "id": "6185a4d6",
   "metadata": {},
   "outputs": [
    {
     "data": {
      "application/vnd.jupyter.widget-view+json": {
       "model_id": "0dbc28da621a411498d5a50a278e8c64",
       "version_major": 2,
       "version_minor": 0
      },
      "text/plain": [
       "Pandas Apply:   0%|          | 0/15 [00:00<?, ?it/s]"
      ]
     },
     "metadata": {},
     "output_type": "display_data"
    },
    {
     "data": {
      "text/plain": [
       "0.28"
      ]
     },
     "execution_count": 15,
     "metadata": {},
     "output_type": "execute_result"
    }
   ],
   "source": [
    "round(calculate_mean_pairwise_tanimoto(paper_2_hits_df), 2)"
   ]
  },
  {
   "cell_type": "markdown",
   "id": "c8b263de",
   "metadata": {},
   "source": [
    "# Paper 4 (10.1021/acsmedchemlett.2c00515)"
   ]
  },
  {
   "cell_type": "code",
   "execution_count": 16,
   "id": "7ccd4949",
   "metadata": {},
   "outputs": [],
   "source": [
    "paper_4_hits_df = pd.read_csv('data/Paper 4/Paper 4 Hits.csv')\n",
    "paper_4_seeds_df = pd.read_csv('data/Paper 4/Paper 4 Seeds.csv')\n",
    "paper_4_chembl_df = pd.read_csv('data/Paper 4/Paper_4_Chembl.csv')"
   ]
  },
  {
   "cell_type": "markdown",
   "id": "d1a4d7c2",
   "metadata": {},
   "source": [
    "#### Data Cleanup and SMILES Standardization"
   ]
  },
  {
   "cell_type": "code",
   "execution_count": 17,
   "id": "bc9a340e",
   "metadata": {},
   "outputs": [
    {
     "name": "stderr",
     "output_type": "stream",
     "text": [
      "100%|██████████| 4/4 [00:00<00:00, 713.01it/s]\n",
      "100%|██████████| 10/10 [00:00<00:00, 721.65it/s]\n",
      "100%|██████████| 3686/3686 [00:04<00:00, 775.09it/s]\n"
     ]
    }
   ],
   "source": [
    "paper_4_hits_df = full_smiles_cleaner(paper_4_hits_df)\n",
    "paper_4_seeds_df = full_smiles_cleaner(paper_4_seeds_df)\n",
    "paper_4_chembl_df = full_smiles_cleaner(paper_4_chembl_df)"
   ]
  },
  {
   "cell_type": "code",
   "execution_count": 18,
   "id": "1f95f942",
   "metadata": {},
   "outputs": [
    {
     "data": {
      "application/vnd.jupyter.widget-view+json": {
       "model_id": "a54cc7126a1d4ab6999eca15ae0d3bde",
       "version_major": 2,
       "version_minor": 0
      },
      "text/plain": [
       "Pandas Apply:   0%|          | 0/10 [00:00<?, ?it/s]"
      ]
     },
     "metadata": {},
     "output_type": "display_data"
    },
    {
     "data": {
      "application/vnd.jupyter.widget-view+json": {
       "model_id": "c3e15e3ca60140c29fdc9c4776b07fbd",
       "version_major": 2,
       "version_minor": 0
      },
      "text/plain": [
       "Pandas Apply:   0%|          | 0/4 [00:00<?, ?it/s]"
      ]
     },
     "metadata": {},
     "output_type": "display_data"
    },
    {
     "data": {
      "application/vnd.jupyter.widget-view+json": {
       "model_id": "4f51dcac5b8d4ed5966d25ca6a416fc6",
       "version_major": 2,
       "version_minor": 0
      },
      "text/plain": [
       "Pandas Apply:   0%|          | 0/4654 [00:00<?, ?it/s]"
      ]
     },
     "metadata": {},
     "output_type": "display_data"
    },
    {
     "data": {
      "application/vnd.jupyter.widget-view+json": {
       "model_id": "cf1477a28e8647f2a523c370521420a5",
       "version_major": 2,
       "version_minor": 0
      },
      "text/plain": [
       "Pandas Apply:   0%|          | 0/4 [00:00<?, ?it/s]"
      ]
     },
     "metadata": {},
     "output_type": "display_data"
    }
   ],
   "source": [
    "paper_4_hits_df = run_tanimoto_sim(paper_4_seeds_df, paper_4_hits_df, column_name=\"Seeds\")\n",
    "paper_4_hits_df = run_tanimoto_sim(paper_4_chembl_df, paper_4_hits_df, column_name=\"ChEMBL\")"
   ]
  },
  {
   "cell_type": "code",
   "execution_count": 19,
   "id": "cbf0dbfd",
   "metadata": {},
   "outputs": [
    {
     "data": {
      "text/html": [
       "<div>\n",
       "<style scoped>\n",
       "    .dataframe tbody tr th:only-of-type {\n",
       "        vertical-align: middle;\n",
       "    }\n",
       "\n",
       "    .dataframe tbody tr th {\n",
       "        vertical-align: top;\n",
       "    }\n",
       "\n",
       "    .dataframe thead th {\n",
       "        text-align: right;\n",
       "    }\n",
       "</style>\n",
       "<table border=\"1\" class=\"dataframe\">\n",
       "  <thead>\n",
       "    <tr style=\"text-align: right;\">\n",
       "      <th></th>\n",
       "      <th>Unnamed: 0</th>\n",
       "      <th>Compound Name</th>\n",
       "      <th>SMILES</th>\n",
       "      <th>CDK2 IC50 (µM)</th>\n",
       "      <th>Seeds_NN_Tanimoto_ECFP4_2048</th>\n",
       "      <th>ChEMBL_NN_Tanimoto_ECFP4_2048</th>\n",
       "    </tr>\n",
       "  </thead>\n",
       "  <tbody>\n",
       "    <tr>\n",
       "      <th>0</th>\n",
       "      <td>0</td>\n",
       "      <td>Compound 1</td>\n",
       "      <td>CC(C)(C)c1cnc(CSc2nc(NC(=O)C3CCNCC3)ncc2Cl)o1</td>\n",
       "      <td>8.0000</td>\n",
       "      <td>0.630769</td>\n",
       "      <td>0.630769</td>\n",
       "    </tr>\n",
       "    <tr>\n",
       "      <th>1</th>\n",
       "      <td>1</td>\n",
       "      <td>Compound 6</td>\n",
       "      <td>CC(C)Nc1nc2[nH]c(-c3ccc(S(C)(=O)=O)cc3)nc(=O)c...</td>\n",
       "      <td>5.2000</td>\n",
       "      <td>0.163043</td>\n",
       "      <td>0.380952</td>\n",
       "    </tr>\n",
       "    <tr>\n",
       "      <th>2</th>\n",
       "      <td>2</td>\n",
       "      <td>Compound 8</td>\n",
       "      <td>Cc1c(-c2ccc(F)cc2)ccnc1Nc1ccnc(N)n1</td>\n",
       "      <td>1.5000</td>\n",
       "      <td>0.379310</td>\n",
       "      <td>0.312500</td>\n",
       "    </tr>\n",
       "    <tr>\n",
       "      <th>3</th>\n",
       "      <td>3</td>\n",
       "      <td>Compound 10</td>\n",
       "      <td>CC(C)NC(=O)O[C@@H]1CC[C@H](c2cnc3[nH]c(-c4ccnn...</td>\n",
       "      <td>0.0015</td>\n",
       "      <td>0.390805</td>\n",
       "      <td>0.320000</td>\n",
       "    </tr>\n",
       "  </tbody>\n",
       "</table>\n",
       "</div>"
      ],
      "text/plain": [
       "   Unnamed: 0 Compound Name  \\\n",
       "0           0    Compound 1   \n",
       "1           1    Compound 6   \n",
       "2           2    Compound 8   \n",
       "3           3   Compound 10   \n",
       "\n",
       "                                              SMILES  CDK2 IC50 (µM)  \\\n",
       "0      CC(C)(C)c1cnc(CSc2nc(NC(=O)C3CCNCC3)ncc2Cl)o1          8.0000   \n",
       "1  CC(C)Nc1nc2[nH]c(-c3ccc(S(C)(=O)=O)cc3)nc(=O)c...          5.2000   \n",
       "2                Cc1c(-c2ccc(F)cc2)ccnc1Nc1ccnc(N)n1          1.5000   \n",
       "3  CC(C)NC(=O)O[C@@H]1CC[C@H](c2cnc3[nH]c(-c4ccnn...          0.0015   \n",
       "\n",
       "   Seeds_NN_Tanimoto_ECFP4_2048  ChEMBL_NN_Tanimoto_ECFP4_2048  \n",
       "0                      0.630769                       0.630769  \n",
       "1                      0.163043                       0.380952  \n",
       "2                      0.379310                       0.312500  \n",
       "3                      0.390805                       0.320000  "
      ]
     },
     "execution_count": 19,
     "metadata": {},
     "output_type": "execute_result"
    }
   ],
   "source": [
    "paper_4_hits_df"
   ]
  },
  {
   "cell_type": "code",
   "execution_count": 20,
   "id": "bab89066",
   "metadata": {},
   "outputs": [
    {
     "data": {
      "text/plain": [
       "0.39"
      ]
     },
     "execution_count": 20,
     "metadata": {},
     "output_type": "execute_result"
    }
   ],
   "source": [
    "round(paper_4_hits_df['Seeds_NN_Tanimoto_ECFP4_2048'].mean(), 2)\n"
   ]
  },
  {
   "cell_type": "code",
   "execution_count": 21,
   "id": "832b5165",
   "metadata": {},
   "outputs": [
    {
     "data": {
      "text/plain": [
       "0.41"
      ]
     },
     "execution_count": 21,
     "metadata": {},
     "output_type": "execute_result"
    }
   ],
   "source": [
    "round(paper_4_hits_df['ChEMBL_NN_Tanimoto_ECFP4_2048'].mean(), 2)"
   ]
  },
  {
   "cell_type": "code",
   "execution_count": 22,
   "id": "4c53756b",
   "metadata": {},
   "outputs": [
    {
     "data": {
      "application/vnd.jupyter.widget-view+json": {
       "model_id": "51681fb86cdd40078342fc73871aa90d",
       "version_major": 2,
       "version_minor": 0
      },
      "text/plain": [
       "Pandas Apply:   0%|          | 0/4 [00:00<?, ?it/s]"
      ]
     },
     "metadata": {},
     "output_type": "display_data"
    },
    {
     "data": {
      "text/plain": [
       "0.14"
      ]
     },
     "execution_count": 22,
     "metadata": {},
     "output_type": "execute_result"
    }
   ],
   "source": [
    "round(calculate_mean_pairwise_tanimoto(paper_4_hits_df), 2)"
   ]
  },
  {
   "cell_type": "markdown",
   "id": "3a97fa68",
   "metadata": {},
   "source": [
    "# Paper 5 (10.1038/s42004-022-00733-0)"
   ]
  },
  {
   "cell_type": "code",
   "execution_count": 23,
   "id": "d1044355",
   "metadata": {
    "scrolled": true
   },
   "outputs": [],
   "source": [
    "paper_5_hits_df = pd.read_csv('data/Paper 5/Paper 5 Hits.csv')\n",
    "paper_5_training_df = pd.read_csv('data/Paper 5/Paper 5 Training Data.csv')\n",
    "paper_5_reported_NN_df = pd.read_csv('data/Paper 5/Paper_5_Reported_Nearest_Neighbor.csv')\n",
    "paper_5_chembl_df = pd.read_csv('data/Paper 5/Paper_5_Chembl.csv')"
   ]
  },
  {
   "cell_type": "markdown",
   "id": "41a9b97e",
   "metadata": {},
   "source": [
    "#### Data Cleanup and SMILES Standardization"
   ]
  },
  {
   "cell_type": "code",
   "execution_count": 24,
   "id": "31fb7ed3",
   "metadata": {},
   "outputs": [
    {
     "name": "stderr",
     "output_type": "stream",
     "text": [
      "100%|██████████| 4/4 [00:00<00:00, 794.11it/s]\n",
      "100%|██████████| 4081/4081 [00:05<00:00, 749.36it/s]\n",
      "100%|██████████| 3/3 [00:00<00:00, 840.77it/s]\n",
      "100%|██████████| 10838/10838 [00:14<00:00, 744.99it/s]\n"
     ]
    }
   ],
   "source": [
    "paper_5_hits_df = full_smiles_cleaner(paper_5_hits_df)\n",
    "paper_5_training_df = full_smiles_cleaner(paper_5_training_df)\n",
    "paper_5_reported_NN_df = full_smiles_cleaner(paper_5_reported_NN_df)\n",
    "paper_5_chembl_df = full_smiles_cleaner(paper_5_chembl_df)"
   ]
  },
  {
   "cell_type": "code",
   "execution_count": 25,
   "id": "26424a19",
   "metadata": {},
   "outputs": [
    {
     "data": {
      "application/vnd.jupyter.widget-view+json": {
       "model_id": "838d5b555ee3483db2f20d09f00cd290",
       "version_major": 2,
       "version_minor": 0
      },
      "text/plain": [
       "Pandas Apply:   0%|          | 0/4081 [00:00<?, ?it/s]"
      ]
     },
     "metadata": {},
     "output_type": "display_data"
    },
    {
     "data": {
      "application/vnd.jupyter.widget-view+json": {
       "model_id": "c5d4ebaff81d4a3399c11a3f28d4f232",
       "version_major": 2,
       "version_minor": 0
      },
      "text/plain": [
       "Pandas Apply:   0%|          | 0/4 [00:00<?, ?it/s]"
      ]
     },
     "metadata": {},
     "output_type": "display_data"
    },
    {
     "data": {
      "application/vnd.jupyter.widget-view+json": {
       "model_id": "e50b98d6ab814549bf0038af42703690",
       "version_major": 2,
       "version_minor": 0
      },
      "text/plain": [
       "Pandas Apply:   0%|          | 0/4 [00:00<?, ?it/s]"
      ]
     },
     "metadata": {},
     "output_type": "display_data"
    },
    {
     "data": {
      "application/vnd.jupyter.widget-view+json": {
       "model_id": "bb68357769634e468f45c221120f2cde",
       "version_major": 2,
       "version_minor": 0
      },
      "text/plain": [
       "Pandas Apply:   0%|          | 0/4 [00:00<?, ?it/s]"
      ]
     },
     "metadata": {},
     "output_type": "display_data"
    },
    {
     "data": {
      "application/vnd.jupyter.widget-view+json": {
       "model_id": "2117e24a79374469831dba1f8b60088c",
       "version_major": 2,
       "version_minor": 0
      },
      "text/plain": [
       "Pandas Apply:   0%|          | 0/20788 [00:00<?, ?it/s]"
      ]
     },
     "metadata": {},
     "output_type": "display_data"
    },
    {
     "data": {
      "application/vnd.jupyter.widget-view+json": {
       "model_id": "03f6fab9d0844fce8929d19eb86fc6e0",
       "version_major": 2,
       "version_minor": 0
      },
      "text/plain": [
       "Pandas Apply:   0%|          | 0/4 [00:00<?, ?it/s]"
      ]
     },
     "metadata": {},
     "output_type": "display_data"
    }
   ],
   "source": [
    "paper_5_hits_df = run_tanimoto_sim(paper_5_training_df, paper_5_hits_df, column_name=\"Train\")\n",
    "paper_5_hits_df = run_tanimoto_sim(paper_5_reported_NN_df, paper_5_hits_df, column_name=\"Reported\")\n",
    "paper_5_hits_df = run_tanimoto_sim(paper_5_chembl_df, paper_5_hits_df, column_name=\"ChEMBL\")\n"
   ]
  },
  {
   "cell_type": "code",
   "execution_count": 26,
   "id": "854cfbf3",
   "metadata": {},
   "outputs": [
    {
     "data": {
      "text/html": [
       "<div>\n",
       "<style scoped>\n",
       "    .dataframe tbody tr th:only-of-type {\n",
       "        vertical-align: middle;\n",
       "    }\n",
       "\n",
       "    .dataframe tbody tr th {\n",
       "        vertical-align: top;\n",
       "    }\n",
       "\n",
       "    .dataframe thead th {\n",
       "        text-align: right;\n",
       "    }\n",
       "</style>\n",
       "<table border=\"1\" class=\"dataframe\">\n",
       "  <thead>\n",
       "    <tr style=\"text-align: right;\">\n",
       "      <th></th>\n",
       "      <th>Compound Name</th>\n",
       "      <th>SMILES</th>\n",
       "      <th>EGFR IC50 (µM)</th>\n",
       "      <th>Train_NN_Tanimoto_ECFP4_2048</th>\n",
       "      <th>Reported_NN_Tanimoto_ECFP4_2048</th>\n",
       "      <th>ChEMBL_NN_Tanimoto_ECFP4_2048</th>\n",
       "    </tr>\n",
       "  </thead>\n",
       "  <tbody>\n",
       "    <tr>\n",
       "      <th>0</th>\n",
       "      <td>Compound 1</td>\n",
       "      <td>Fc1ccc(Nc2ncnc3ccc(Br)cc23)cc1</td>\n",
       "      <td>0.03</td>\n",
       "      <td>0.590909</td>\n",
       "      <td>0.534884</td>\n",
       "      <td>0.604651</td>\n",
       "    </tr>\n",
       "    <tr>\n",
       "      <th>1</th>\n",
       "      <td>Compound 2</td>\n",
       "      <td>Nc1c(Cl)cc(Nc2ncnc3ccc(F)cc23)cc1Cl</td>\n",
       "      <td>0.04</td>\n",
       "      <td>0.500000</td>\n",
       "      <td>0.489362</td>\n",
       "      <td>0.630435</td>\n",
       "    </tr>\n",
       "    <tr>\n",
       "      <th>2</th>\n",
       "      <td>Compound 3</td>\n",
       "      <td>Cc1ccc(Nc2ncnc3cccc(F)c23)cc1F</td>\n",
       "      <td>0.21</td>\n",
       "      <td>0.458333</td>\n",
       "      <td>0.458333</td>\n",
       "      <td>0.461538</td>\n",
       "    </tr>\n",
       "    <tr>\n",
       "      <th>3</th>\n",
       "      <td>Compound 4</td>\n",
       "      <td>Nc1c(Cl)cc(Nc2ncnc3c(F)cccc23)cc1Cl</td>\n",
       "      <td>1.40</td>\n",
       "      <td>0.423077</td>\n",
       "      <td>0.420000</td>\n",
       "      <td>0.510204</td>\n",
       "    </tr>\n",
       "  </tbody>\n",
       "</table>\n",
       "</div>"
      ],
      "text/plain": [
       "  Compound Name                               SMILES  EGFR IC50 (µM)  \\\n",
       "0    Compound 1       Fc1ccc(Nc2ncnc3ccc(Br)cc23)cc1            0.03   \n",
       "1    Compound 2  Nc1c(Cl)cc(Nc2ncnc3ccc(F)cc23)cc1Cl            0.04   \n",
       "2    Compound 3       Cc1ccc(Nc2ncnc3cccc(F)c23)cc1F            0.21   \n",
       "3    Compound 4  Nc1c(Cl)cc(Nc2ncnc3c(F)cccc23)cc1Cl            1.40   \n",
       "\n",
       "   Train_NN_Tanimoto_ECFP4_2048  Reported_NN_Tanimoto_ECFP4_2048  \\\n",
       "0                      0.590909                         0.534884   \n",
       "1                      0.500000                         0.489362   \n",
       "2                      0.458333                         0.458333   \n",
       "3                      0.423077                         0.420000   \n",
       "\n",
       "   ChEMBL_NN_Tanimoto_ECFP4_2048  \n",
       "0                       0.604651  \n",
       "1                       0.630435  \n",
       "2                       0.461538  \n",
       "3                       0.510204  "
      ]
     },
     "execution_count": 26,
     "metadata": {},
     "output_type": "execute_result"
    }
   ],
   "source": [
    "paper_5_hits_df"
   ]
  },
  {
   "cell_type": "code",
   "execution_count": 27,
   "id": "095b5fda",
   "metadata": {},
   "outputs": [
    {
     "data": {
      "text/plain": [
       "0.49"
      ]
     },
     "execution_count": 27,
     "metadata": {},
     "output_type": "execute_result"
    }
   ],
   "source": [
    "round(paper_5_hits_df['Train_NN_Tanimoto_ECFP4_2048'].mean(), 2)"
   ]
  },
  {
   "cell_type": "code",
   "execution_count": 28,
   "id": "eabcad99",
   "metadata": {},
   "outputs": [
    {
     "data": {
      "text/plain": [
       "0.48"
      ]
     },
     "execution_count": 28,
     "metadata": {},
     "output_type": "execute_result"
    }
   ],
   "source": [
    "round(paper_5_hits_df['Reported_NN_Tanimoto_ECFP4_2048'].mean(), 2)"
   ]
  },
  {
   "cell_type": "code",
   "execution_count": 29,
   "id": "54a5104e",
   "metadata": {},
   "outputs": [
    {
     "data": {
      "text/plain": [
       "0.55"
      ]
     },
     "execution_count": 29,
     "metadata": {},
     "output_type": "execute_result"
    }
   ],
   "source": [
    "round(paper_5_hits_df['ChEMBL_NN_Tanimoto_ECFP4_2048'].mean(), 2)"
   ]
  },
  {
   "cell_type": "code",
   "execution_count": 30,
   "id": "4bec6450",
   "metadata": {},
   "outputs": [
    {
     "data": {
      "application/vnd.jupyter.widget-view+json": {
       "model_id": "674c8ad46c044dbfbcff46d659858207",
       "version_major": 2,
       "version_minor": 0
      },
      "text/plain": [
       "Pandas Apply:   0%|          | 0/4 [00:00<?, ?it/s]"
      ]
     },
     "metadata": {},
     "output_type": "display_data"
    },
    {
     "data": {
      "text/plain": [
       "0.42"
      ]
     },
     "execution_count": 30,
     "metadata": {},
     "output_type": "execute_result"
    }
   ],
   "source": [
    "round(calculate_mean_pairwise_tanimoto(paper_5_hits_df), 2)"
   ]
  },
  {
   "cell_type": "markdown",
   "id": "8a7140d1",
   "metadata": {},
   "source": [
    "# Paper 6 (10.48550/arXiv.2402.08210)"
   ]
  },
  {
   "cell_type": "code",
   "execution_count": 31,
   "id": "691ea27d",
   "metadata": {
    "scrolled": false
   },
   "outputs": [],
   "source": [
    "paper_6_hits_df = pd.read_csv('data/Paper 6/Paper 6 Hits.csv')\n",
    "paper_6_train_df = pd.read_csv('data/Paper 6/Paper 6 Training Data.csv')\n",
    "paper_6_chembl_df = pd.read_csv('data/Paper 6/Paper_6_Chembl.csv')\n"
   ]
  },
  {
   "cell_type": "markdown",
   "id": "32b3cb92",
   "metadata": {},
   "source": [
    "#### Data Cleanup and SMILES Standardization "
   ]
  },
  {
   "cell_type": "code",
   "execution_count": 32,
   "id": "116def42",
   "metadata": {},
   "outputs": [
    {
     "name": "stderr",
     "output_type": "stream",
     "text": [
      "100%|██████████| 2/2 [00:00<00:00, 677.54it/s]\n",
      "100%|██████████| 631/631 [00:00<00:00, 651.72it/s]\n",
      "100%|██████████| 709/709 [00:01<00:00, 527.44it/s]\n"
     ]
    }
   ],
   "source": [
    "paper_6_hits_df = full_smiles_cleaner(paper_6_hits_df)\n",
    "paper_6_train_df = full_smiles_cleaner(paper_6_train_df)\n",
    "paper_6_chembl_df = full_smiles_cleaner(paper_6_chembl_df)"
   ]
  },
  {
   "cell_type": "code",
   "execution_count": 33,
   "id": "c089757a",
   "metadata": {},
   "outputs": [
    {
     "data": {
      "application/vnd.jupyter.widget-view+json": {
       "model_id": "0be94e3e5fa448eaa5aa2957215a7918",
       "version_major": 2,
       "version_minor": 0
      },
      "text/plain": [
       "Pandas Apply:   0%|          | 0/638 [00:00<?, ?it/s]"
      ]
     },
     "metadata": {},
     "output_type": "display_data"
    },
    {
     "data": {
      "application/vnd.jupyter.widget-view+json": {
       "model_id": "3e2df9c113034c779a02241a0cf8ff9c",
       "version_major": 2,
       "version_minor": 0
      },
      "text/plain": [
       "Pandas Apply:   0%|          | 0/2 [00:00<?, ?it/s]"
      ]
     },
     "metadata": {},
     "output_type": "display_data"
    },
    {
     "data": {
      "application/vnd.jupyter.widget-view+json": {
       "model_id": "7e6a7cbaef7d4d0389d482f259699322",
       "version_major": 2,
       "version_minor": 0
      },
      "text/plain": [
       "Pandas Apply:   0%|          | 0/1755 [00:00<?, ?it/s]"
      ]
     },
     "metadata": {},
     "output_type": "display_data"
    },
    {
     "data": {
      "application/vnd.jupyter.widget-view+json": {
       "model_id": "fff3205b64f549aebe69198ed2f19688",
       "version_major": 2,
       "version_minor": 0
      },
      "text/plain": [
       "Pandas Apply:   0%|          | 0/2 [00:00<?, ?it/s]"
      ]
     },
     "metadata": {},
     "output_type": "display_data"
    }
   ],
   "source": [
    "paper_6_hits_df = run_tanimoto_sim(paper_6_train_df, paper_6_hits_df, column_name=\"Train\")\n",
    "paper_6_hits_df = run_tanimoto_sim(paper_6_chembl_df, paper_6_hits_df, column_name=\"ChEMBL\")\n"
   ]
  },
  {
   "cell_type": "code",
   "execution_count": 34,
   "id": "ba52fee1",
   "metadata": {},
   "outputs": [
    {
     "data": {
      "text/html": [
       "<div>\n",
       "<style scoped>\n",
       "    .dataframe tbody tr th:only-of-type {\n",
       "        vertical-align: middle;\n",
       "    }\n",
       "\n",
       "    .dataframe tbody tr th {\n",
       "        vertical-align: top;\n",
       "    }\n",
       "\n",
       "    .dataframe thead th {\n",
       "        text-align: right;\n",
       "    }\n",
       "</style>\n",
       "<table border=\"1\" class=\"dataframe\">\n",
       "  <thead>\n",
       "    <tr style=\"text-align: right;\">\n",
       "      <th></th>\n",
       "      <th>Compound Name</th>\n",
       "      <th>SMILES</th>\n",
       "      <th>KRAS IC50 (µM)</th>\n",
       "      <th>Train_NN_Tanimoto_ECFP4_2048</th>\n",
       "      <th>ChEMBL_NN_Tanimoto_ECFP4_2048</th>\n",
       "    </tr>\n",
       "  </thead>\n",
       "  <tbody>\n",
       "    <tr>\n",
       "      <th>0</th>\n",
       "      <td>ISM061-018-2</td>\n",
       "      <td>Cc1ccc2[nH]ncc2c1C=Cc1cnc(Oc2cccc(F)c2)nc1</td>\n",
       "      <td>3.6 - 6.8</td>\n",
       "      <td>0.276596</td>\n",
       "      <td>0.273810</td>\n",
       "    </tr>\n",
       "    <tr>\n",
       "      <th>1</th>\n",
       "      <td>ISM061-22</td>\n",
       "      <td>COc1c(C)cccc1-c1nccc(Nc2cccc3c2ccn3C)n1</td>\n",
       "      <td>13.8 - 24.6</td>\n",
       "      <td>0.271739</td>\n",
       "      <td>0.195876</td>\n",
       "    </tr>\n",
       "  </tbody>\n",
       "</table>\n",
       "</div>"
      ],
      "text/plain": [
       "  Compound Name                                      SMILES KRAS IC50 (µM)  \\\n",
       "0  ISM061-018-2  Cc1ccc2[nH]ncc2c1C=Cc1cnc(Oc2cccc(F)c2)nc1      3.6 - 6.8   \n",
       "1     ISM061-22     COc1c(C)cccc1-c1nccc(Nc2cccc3c2ccn3C)n1    13.8 - 24.6   \n",
       "\n",
       "   Train_NN_Tanimoto_ECFP4_2048  ChEMBL_NN_Tanimoto_ECFP4_2048  \n",
       "0                      0.276596                       0.273810  \n",
       "1                      0.271739                       0.195876  "
      ]
     },
     "execution_count": 34,
     "metadata": {},
     "output_type": "execute_result"
    }
   ],
   "source": [
    "paper_6_hits_df"
   ]
  },
  {
   "cell_type": "code",
   "execution_count": 35,
   "id": "4eb2baa4",
   "metadata": {},
   "outputs": [
    {
     "data": {
      "text/plain": [
       "0.27"
      ]
     },
     "execution_count": 35,
     "metadata": {},
     "output_type": "execute_result"
    }
   ],
   "source": [
    "round(paper_6_hits_df['Train_NN_Tanimoto_ECFP4_2048'].mean(), 2)\n"
   ]
  },
  {
   "cell_type": "code",
   "execution_count": 36,
   "id": "eb43d110",
   "metadata": {},
   "outputs": [
    {
     "data": {
      "text/plain": [
       "0.23"
      ]
     },
     "execution_count": 36,
     "metadata": {},
     "output_type": "execute_result"
    }
   ],
   "source": [
    "round(paper_6_hits_df['ChEMBL_NN_Tanimoto_ECFP4_2048'].mean(), 2)"
   ]
  },
  {
   "cell_type": "code",
   "execution_count": 37,
   "id": "d22807fa",
   "metadata": {},
   "outputs": [
    {
     "data": {
      "application/vnd.jupyter.widget-view+json": {
       "model_id": "0bef03629ad64369b8245b3692f35c18",
       "version_major": 2,
       "version_minor": 0
      },
      "text/plain": [
       "Pandas Apply:   0%|          | 0/2 [00:00<?, ?it/s]"
      ]
     },
     "metadata": {},
     "output_type": "display_data"
    },
    {
     "data": {
      "text/plain": [
       "0.15"
      ]
     },
     "execution_count": 37,
     "metadata": {},
     "output_type": "execute_result"
    }
   ],
   "source": [
    "round(calculate_mean_pairwise_tanimoto(paper_6_hits_df), 2)"
   ]
  },
  {
   "cell_type": "markdown",
   "id": "24c3e61a",
   "metadata": {},
   "source": [
    "# Paper 7 (10.1038/s42256-024-00809-7)"
   ]
  },
  {
   "cell_type": "code",
   "execution_count": 38,
   "id": "1efe27a0",
   "metadata": {},
   "outputs": [],
   "source": [
    "paper_7_hits_df = pd.read_csv('data/Paper 7/Paper 7 Hits.csv')\n",
    "paper_7_train_df = pd.read_csv('data/Paper 7/Paper 7 Training Data.csv')\n",
    "paper_7_chembl_df = pd.read_csv('data/Paper 7/Paper_7_Chembl.csv')\n"
   ]
  },
  {
   "cell_type": "markdown",
   "id": "35c5b338",
   "metadata": {},
   "source": [
    "#### Data Cleanup and SMILES Standardization"
   ]
  },
  {
   "cell_type": "code",
   "execution_count": 39,
   "id": "b59cffca",
   "metadata": {},
   "outputs": [
    {
     "name": "stderr",
     "output_type": "stream",
     "text": [
      "100%|██████████| 6/6 [00:00<00:00, 707.64it/s]\n",
      "100%|██████████| 13524/13524 [00:18<00:00, 735.99it/s]\n",
      "100%|██████████| 1005/1005 [00:01<00:00, 514.11it/s]\n"
     ]
    }
   ],
   "source": [
    "paper_7_train_df['SMILES'] = list(paper_7_train_df['smiles'])\n",
    "paper_7_chembl_df['SMILES'] = list(paper_7_chembl_df['smiles'])\n",
    "paper_7_hits_df = full_smiles_cleaner(paper_7_hits_df)\n",
    "paper_7_train_df = full_smiles_cleaner(paper_7_train_df)\n",
    "paper_7_chembl_df = full_smiles_cleaner(paper_7_chembl_df)\n",
    "\n"
   ]
  },
  {
   "cell_type": "code",
   "execution_count": 40,
   "id": "3af0078e",
   "metadata": {},
   "outputs": [
    {
     "data": {
      "application/vnd.jupyter.widget-view+json": {
       "model_id": "432733d5f3024b7892dc9e8cf0a79e4a",
       "version_major": 2,
       "version_minor": 0
      },
      "text/plain": [
       "Pandas Apply:   0%|          | 0/13524 [00:00<?, ?it/s]"
      ]
     },
     "metadata": {},
     "output_type": "display_data"
    },
    {
     "data": {
      "application/vnd.jupyter.widget-view+json": {
       "model_id": "0577596f69a94b5594280b5c929e785b",
       "version_major": 2,
       "version_minor": 0
      },
      "text/plain": [
       "Pandas Apply:   0%|          | 0/6 [00:00<?, ?it/s]"
      ]
     },
     "metadata": {},
     "output_type": "display_data"
    },
    {
     "data": {
      "application/vnd.jupyter.widget-view+json": {
       "model_id": "b7f8cca5ef0446038c2f4de50a524b98",
       "version_major": 2,
       "version_minor": 0
      },
      "text/plain": [
       "Pandas Apply:   0%|          | 0/1005 [00:00<?, ?it/s]"
      ]
     },
     "metadata": {},
     "output_type": "display_data"
    },
    {
     "data": {
      "application/vnd.jupyter.widget-view+json": {
       "model_id": "e7cbb8b203bf4a1ebb28bcbcca262d12",
       "version_major": 2,
       "version_minor": 0
      },
      "text/plain": [
       "Pandas Apply:   0%|          | 0/6 [00:00<?, ?it/s]"
      ]
     },
     "metadata": {},
     "output_type": "display_data"
    }
   ],
   "source": [
    "paper_7_hits_df = run_tanimoto_sim(paper_7_train_df, paper_7_hits_df, column_name=\"Train\")\n",
    "paper_7_hits_df = run_tanimoto_sim(paper_7_chembl_df, paper_7_hits_df, column_name=\"ChEMBL\")\n",
    "\n"
   ]
  },
  {
   "cell_type": "code",
   "execution_count": 41,
   "id": "2657a487",
   "metadata": {},
   "outputs": [
    {
     "data": {
      "text/html": [
       "<div>\n",
       "<style scoped>\n",
       "    .dataframe tbody tr th:only-of-type {\n",
       "        vertical-align: middle;\n",
       "    }\n",
       "\n",
       "    .dataframe tbody tr th {\n",
       "        vertical-align: top;\n",
       "    }\n",
       "\n",
       "    .dataframe thead th {\n",
       "        text-align: right;\n",
       "    }\n",
       "</style>\n",
       "<table border=\"1\" class=\"dataframe\">\n",
       "  <thead>\n",
       "    <tr style=\"text-align: right;\">\n",
       "      <th></th>\n",
       "      <th>Compound Name</th>\n",
       "      <th>SMILES</th>\n",
       "      <th>A. baumannii ATCC 17978 MIC (µM)</th>\n",
       "      <th>Train_NN_Tanimoto_ECFP4_2048</th>\n",
       "      <th>ChEMBL_NN_Tanimoto_ECFP4_2048</th>\n",
       "    </tr>\n",
       "  </thead>\n",
       "  <tbody>\n",
       "    <tr>\n",
       "      <th>0</th>\n",
       "      <td>Enamine 28</td>\n",
       "      <td>O=S(=O)(NC(c1ccc(OC(F)(F)F)cc1)C(F)(F)F)c1cc(C...</td>\n",
       "      <td>≤ 14.9529593136725</td>\n",
       "      <td>0.322581</td>\n",
       "      <td>0.190476</td>\n",
       "    </tr>\n",
       "    <tr>\n",
       "      <th>1</th>\n",
       "      <td>Enamine 23</td>\n",
       "      <td>O=S(=O)(c1cc(F)ccc1NCc1ccccc1O)C(F)(F)F</td>\n",
       "      <td>≤ 22.9200369386517</td>\n",
       "      <td>0.333333</td>\n",
       "      <td>0.232143</td>\n",
       "    </tr>\n",
       "    <tr>\n",
       "      <th>2</th>\n",
       "      <td>Enamine 10</td>\n",
       "      <td>O=S(=O)(c1ccccc1NCc1cc(F)cc(F)c1O)C(F)(F)F</td>\n",
       "      <td>≤ 21.796574164041</td>\n",
       "      <td>0.288462</td>\n",
       "      <td>0.180851</td>\n",
       "    </tr>\n",
       "    <tr>\n",
       "      <th>3</th>\n",
       "      <td>Enamine 40</td>\n",
       "      <td>O=C(Nc1nc2ccc(S(F)(F)(F)(F)F)cc2s1)C(F)(F)c1cc...</td>\n",
       "      <td>≤ 13.5158590683902</td>\n",
       "      <td>0.342857</td>\n",
       "      <td>0.183908</td>\n",
       "    </tr>\n",
       "    <tr>\n",
       "      <th>4</th>\n",
       "      <td>Enamine 43</td>\n",
       "      <td>COc1cccc(C2(NCCCCCCSc3ccccc3OC(C)=O)CCCCC2)c1</td>\n",
       "      <td>≤ 17.572784798036</td>\n",
       "      <td>0.349206</td>\n",
       "      <td>0.189189</td>\n",
       "    </tr>\n",
       "    <tr>\n",
       "      <th>5</th>\n",
       "      <td>Enamine 31</td>\n",
       "      <td>Brc1cccc(CCCNC2CCc3cccc4cccc2c34)c1</td>\n",
       "      <td>≤ 21.1029698366025</td>\n",
       "      <td>0.345455</td>\n",
       "      <td>0.153846</td>\n",
       "    </tr>\n",
       "  </tbody>\n",
       "</table>\n",
       "</div>"
      ],
      "text/plain": [
       "  Compound Name                                             SMILES  \\\n",
       "0    Enamine 28  O=S(=O)(NC(c1ccc(OC(F)(F)F)cc1)C(F)(F)F)c1cc(C...   \n",
       "1    Enamine 23            O=S(=O)(c1cc(F)ccc1NCc1ccccc1O)C(F)(F)F   \n",
       "2    Enamine 10         O=S(=O)(c1ccccc1NCc1cc(F)cc(F)c1O)C(F)(F)F   \n",
       "3    Enamine 40  O=C(Nc1nc2ccc(S(F)(F)(F)(F)F)cc2s1)C(F)(F)c1cc...   \n",
       "4    Enamine 43      COc1cccc(C2(NCCCCCCSc3ccccc3OC(C)=O)CCCCC2)c1   \n",
       "5    Enamine 31                Brc1cccc(CCCNC2CCc3cccc4cccc2c34)c1   \n",
       "\n",
       "  A. baumannii ATCC 17978 MIC (µM)  Train_NN_Tanimoto_ECFP4_2048  \\\n",
       "0               ≤ 14.9529593136725                      0.322581   \n",
       "1               ≤ 22.9200369386517                      0.333333   \n",
       "2                ≤ 21.796574164041                      0.288462   \n",
       "3               ≤ 13.5158590683902                      0.342857   \n",
       "4                ≤ 17.572784798036                      0.349206   \n",
       "5               ≤ 21.1029698366025                      0.345455   \n",
       "\n",
       "   ChEMBL_NN_Tanimoto_ECFP4_2048  \n",
       "0                       0.190476  \n",
       "1                       0.232143  \n",
       "2                       0.180851  \n",
       "3                       0.183908  \n",
       "4                       0.189189  \n",
       "5                       0.153846  "
      ]
     },
     "execution_count": 41,
     "metadata": {},
     "output_type": "execute_result"
    }
   ],
   "source": [
    "paper_7_hits_df"
   ]
  },
  {
   "cell_type": "code",
   "execution_count": 42,
   "id": "7f4ab157",
   "metadata": {},
   "outputs": [
    {
     "data": {
      "text/plain": [
       "0.33"
      ]
     },
     "execution_count": 42,
     "metadata": {},
     "output_type": "execute_result"
    }
   ],
   "source": [
    "round(paper_7_hits_df['Train_NN_Tanimoto_ECFP4_2048'].mean(), 2)"
   ]
  },
  {
   "cell_type": "code",
   "execution_count": 43,
   "id": "41666d51",
   "metadata": {},
   "outputs": [
    {
     "data": {
      "text/plain": [
       "0.19"
      ]
     },
     "execution_count": 43,
     "metadata": {},
     "output_type": "execute_result"
    }
   ],
   "source": [
    "round(paper_7_hits_df['ChEMBL_NN_Tanimoto_ECFP4_2048'].mean(), 2)"
   ]
  },
  {
   "cell_type": "code",
   "execution_count": 44,
   "id": "5c3f4b7f",
   "metadata": {},
   "outputs": [
    {
     "data": {
      "application/vnd.jupyter.widget-view+json": {
       "model_id": "81a1640aa80d4521b3b4c5abbe306509",
       "version_major": 2,
       "version_minor": 0
      },
      "text/plain": [
       "Pandas Apply:   0%|          | 0/6 [00:00<?, ?it/s]"
      ]
     },
     "metadata": {},
     "output_type": "display_data"
    },
    {
     "data": {
      "text/plain": [
       "0.15"
      ]
     },
     "execution_count": 44,
     "metadata": {},
     "output_type": "execute_result"
    }
   ],
   "source": [
    "round(calculate_mean_pairwise_tanimoto(paper_7_hits_df), 2)"
   ]
  },
  {
   "cell_type": "markdown",
   "id": "d892ef3c",
   "metadata": {},
   "source": [
    "# Paper 9 (10.1021/acs.jmedchem.2c00931)"
   ]
  },
  {
   "cell_type": "code",
   "execution_count": 45,
   "id": "bc8bf3c7",
   "metadata": {},
   "outputs": [],
   "source": [
    "paper_9_hits_df = pd.read_csv('data/Paper 9/Paper 9 Hits.csv')\n",
    "paper_9_chembl_df = pd.read_csv('data/Paper 9/Paper_9_Chembl.csv')"
   ]
  },
  {
   "cell_type": "markdown",
   "id": "f486b66b",
   "metadata": {},
   "source": [
    "#### Data Cleanup and SMILES Standardization"
   ]
  },
  {
   "cell_type": "code",
   "execution_count": 46,
   "id": "fda5c3a3",
   "metadata": {},
   "outputs": [
    {
     "name": "stderr",
     "output_type": "stream",
     "text": [
      "100%|██████████| 1/1 [00:00<00:00, 644.78it/s]\n",
      "100%|██████████| 1176/1176 [00:01<00:00, 749.73it/s]\n"
     ]
    }
   ],
   "source": [
    "paper_9_hits_df = full_smiles_cleaner(paper_9_hits_df)\n",
    "paper_9_chembl_df = full_smiles_cleaner(paper_9_chembl_df)\n"
   ]
  },
  {
   "cell_type": "code",
   "execution_count": 47,
   "id": "80222548",
   "metadata": {},
   "outputs": [
    {
     "data": {
      "application/vnd.jupyter.widget-view+json": {
       "model_id": "892e12bcce324462982d3dd88f53d0e2",
       "version_major": 2,
       "version_minor": 0
      },
      "text/plain": [
       "Pandas Apply:   0%|          | 0/1818 [00:00<?, ?it/s]"
      ]
     },
     "metadata": {},
     "output_type": "display_data"
    },
    {
     "data": {
      "application/vnd.jupyter.widget-view+json": {
       "model_id": "d3756646d5d14bf9abf77e579f10b666",
       "version_major": 2,
       "version_minor": 0
      },
      "text/plain": [
       "Pandas Apply:   0%|          | 0/1 [00:00<?, ?it/s]"
      ]
     },
     "metadata": {},
     "output_type": "display_data"
    }
   ],
   "source": [
    "paper_9_hits_df = run_tanimoto_sim(paper_9_chembl_df, paper_9_hits_df, column_name=\"ChEMBL\")\n"
   ]
  },
  {
   "cell_type": "code",
   "execution_count": 48,
   "id": "c35e3edd",
   "metadata": {},
   "outputs": [
    {
     "data": {
      "text/html": [
       "<div>\n",
       "<style scoped>\n",
       "    .dataframe tbody tr th:only-of-type {\n",
       "        vertical-align: middle;\n",
       "    }\n",
       "\n",
       "    .dataframe tbody tr th {\n",
       "        vertical-align: top;\n",
       "    }\n",
       "\n",
       "    .dataframe thead th {\n",
       "        text-align: right;\n",
       "    }\n",
       "</style>\n",
       "<table border=\"1\" class=\"dataframe\">\n",
       "  <thead>\n",
       "    <tr style=\"text-align: right;\">\n",
       "      <th></th>\n",
       "      <th>Compound Name</th>\n",
       "      <th>SMILES</th>\n",
       "      <th>CDK8 IC50 (µM)</th>\n",
       "      <th>ChEMBL_NN_Tanimoto_ECFP4_2048</th>\n",
       "    </tr>\n",
       "  </thead>\n",
       "  <tbody>\n",
       "    <tr>\n",
       "      <th>0</th>\n",
       "      <td>29</td>\n",
       "      <td>O=C(Nc1ccncc1)c1ccncc1</td>\n",
       "      <td>&lt; 10</td>\n",
       "      <td>0.357143</td>\n",
       "    </tr>\n",
       "  </tbody>\n",
       "</table>\n",
       "</div>"
      ],
      "text/plain": [
       "   Compound Name                  SMILES CDK8 IC50 (µM)  \\\n",
       "0             29  O=C(Nc1ccncc1)c1ccncc1           < 10   \n",
       "\n",
       "   ChEMBL_NN_Tanimoto_ECFP4_2048  \n",
       "0                       0.357143  "
      ]
     },
     "execution_count": 48,
     "metadata": {},
     "output_type": "execute_result"
    }
   ],
   "source": [
    "paper_9_hits_df"
   ]
  },
  {
   "cell_type": "code",
   "execution_count": 49,
   "id": "e111619e",
   "metadata": {},
   "outputs": [
    {
     "data": {
      "text/plain": [
       "0.36"
      ]
     },
     "execution_count": 49,
     "metadata": {},
     "output_type": "execute_result"
    }
   ],
   "source": [
    "\n",
    "round(paper_9_hits_df['ChEMBL_NN_Tanimoto_ECFP4_2048'].mean(), 2)"
   ]
  },
  {
   "cell_type": "code",
   "execution_count": null,
   "id": "6740a6b9",
   "metadata": {},
   "outputs": [],
   "source": []
  },
  {
   "cell_type": "code",
   "execution_count": null,
   "id": "286a601e",
   "metadata": {},
   "outputs": [],
   "source": []
  },
  {
   "cell_type": "code",
   "execution_count": null,
   "id": "9407f6c7",
   "metadata": {},
   "outputs": [],
   "source": []
  },
  {
   "cell_type": "code",
   "execution_count": null,
   "id": "7a07fd58",
   "metadata": {},
   "outputs": [],
   "source": []
  },
  {
   "cell_type": "code",
   "execution_count": null,
   "id": "9bc655aa",
   "metadata": {},
   "outputs": [],
   "source": []
  },
  {
   "cell_type": "code",
   "execution_count": null,
   "id": "3cc8645c",
   "metadata": {},
   "outputs": [],
   "source": []
  },
  {
   "cell_type": "code",
   "execution_count": null,
   "id": "814a1230",
   "metadata": {},
   "outputs": [],
   "source": []
  }
 ],
 "metadata": {
  "kernelspec": {
   "display_name": "Python 3",
   "language": "python",
   "name": "python3"
  },
  "language_info": {
   "codemirror_mode": {
    "name": "ipython",
    "version": 3
   },
   "file_extension": ".py",
   "mimetype": "text/x-python",
   "name": "python",
   "nbconvert_exporter": "python",
   "pygments_lexer": "ipython3",
   "version": "3.8.8"
  }
 },
 "nbformat": 4,
 "nbformat_minor": 5
}
